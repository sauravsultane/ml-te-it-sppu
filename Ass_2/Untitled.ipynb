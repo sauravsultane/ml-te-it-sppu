{
 "cells": [
  {
   "cell_type": "code",
   "execution_count": 8,
   "id": "78cd7132-a854-40a0-9be6-270ac1383441",
   "metadata": {},
   "outputs": [],
   "source": [
    "import pandas as pd\n",
    "import numpy as np\n",
    "import matplotlib.pyplot as plt\n",
    "import seaborn as sns\n",
    "\n",
    "df=pd.read_csv(\"temperatures.csv\")"
   ]
  },
  {
   "cell_type": "code",
   "execution_count": 9,
   "id": "ce2f9dea-dbbe-4ae5-a7fa-4c13b49abe54",
   "metadata": {},
   "outputs": [
    {
     "name": "stdout",
     "output_type": "stream",
     "text": [
      "     YEAR    JAN    FEB    MAR    APR    MAY    JUN    JUL    AUG    SEP  \\\n",
      "0    1901  22.40  24.14  29.07  31.91  33.41  33.18  31.21  30.39  30.47   \n",
      "1    1902  24.93  26.58  29.77  31.78  33.73  32.91  30.92  30.73  29.80   \n",
      "2    1903  23.44  25.03  27.83  31.39  32.91  33.00  31.34  29.98  29.85   \n",
      "3    1904  22.50  24.73  28.21  32.02  32.64  32.07  30.36  30.09  30.04   \n",
      "4    1905  22.00  22.83  26.68  30.01  33.32  33.25  31.44  30.68  30.12   \n",
      "..    ...    ...    ...    ...    ...    ...    ...    ...    ...    ...   \n",
      "112  2013  24.56  26.59  30.62  32.66  34.46  32.44  31.07  30.76  31.04   \n",
      "113  2014  23.83  25.97  28.95  32.74  33.77  34.15  31.85  31.32  30.68   \n",
      "114  2015  24.58  26.89  29.07  31.87  34.09  32.48  31.88  31.52  31.55   \n",
      "115  2016  26.94  29.72  32.62  35.38  35.72  34.03  31.64  31.79  31.66   \n",
      "116  2017  26.45  29.46  31.60  34.95  35.84  33.82  31.88  31.72  32.22   \n",
      "\n",
      "       OCT    NOV    DEC  ANNUAL  JAN-FEB  MAR-MAY  JUN-SEP  OCT-DEC  \n",
      "0    29.97  27.31  24.49   28.96    23.27    31.46    31.27    27.25  \n",
      "1    29.12  26.31  24.04   29.22    25.75    31.76    31.09    26.49  \n",
      "2    29.04  26.08  23.65   28.47    24.24    30.71    30.92    26.26  \n",
      "3    29.20  26.36  23.63   28.49    23.62    30.95    30.66    26.40  \n",
      "4    30.67  27.52  23.82   28.30    22.25    30.00    31.33    26.57  \n",
      "..     ...    ...    ...     ...      ...      ...      ...      ...  \n",
      "112  30.27  27.83  25.37   29.81    25.58    32.58    31.33    27.83  \n",
      "113  30.29  28.05  25.08   29.72    24.90    31.82    32.00    27.81  \n",
      "114  31.04  28.10  25.67   29.90    25.74    31.68    31.87    28.27  \n",
      "115  31.98  30.11  28.01   31.63    28.33    34.57    32.28    30.03  \n",
      "116  32.29  29.60  27.18   31.42    27.95    34.13    32.41    29.69  \n",
      "\n",
      "[117 rows x 18 columns]\n"
     ]
    }
   ],
   "source": [
    "print(df)"
   ]
  },
  {
   "cell_type": "code",
   "execution_count": 11,
   "id": "00023816-66a0-4ff2-a459-4a40f9e7d3a1",
   "metadata": {},
   "outputs": [
    {
     "data": {
      "text/html": [
       "<div>\n",
       "<style scoped>\n",
       "    .dataframe tbody tr th:only-of-type {\n",
       "        vertical-align: middle;\n",
       "    }\n",
       "\n",
       "    .dataframe tbody tr th {\n",
       "        vertical-align: top;\n",
       "    }\n",
       "\n",
       "    .dataframe thead th {\n",
       "        text-align: right;\n",
       "    }\n",
       "</style>\n",
       "<table border=\"1\" class=\"dataframe\">\n",
       "  <thead>\n",
       "    <tr style=\"text-align: right;\">\n",
       "      <th></th>\n",
       "      <th>YEAR</th>\n",
       "      <th>JAN</th>\n",
       "      <th>FEB</th>\n",
       "      <th>MAR</th>\n",
       "      <th>APR</th>\n",
       "      <th>MAY</th>\n",
       "      <th>JUN</th>\n",
       "      <th>JUL</th>\n",
       "      <th>AUG</th>\n",
       "      <th>SEP</th>\n",
       "      <th>OCT</th>\n",
       "      <th>NOV</th>\n",
       "      <th>DEC</th>\n",
       "      <th>ANNUAL</th>\n",
       "      <th>JAN-FEB</th>\n",
       "      <th>MAR-MAY</th>\n",
       "      <th>JUN-SEP</th>\n",
       "      <th>OCT-DEC</th>\n",
       "    </tr>\n",
       "  </thead>\n",
       "  <tbody>\n",
       "    <tr>\n",
       "      <th>0</th>\n",
       "      <td>1901</td>\n",
       "      <td>22.40</td>\n",
       "      <td>24.14</td>\n",
       "      <td>29.07</td>\n",
       "      <td>31.91</td>\n",
       "      <td>33.41</td>\n",
       "      <td>33.18</td>\n",
       "      <td>31.21</td>\n",
       "      <td>30.39</td>\n",
       "      <td>30.47</td>\n",
       "      <td>29.97</td>\n",
       "      <td>27.31</td>\n",
       "      <td>24.49</td>\n",
       "      <td>28.96</td>\n",
       "      <td>23.27</td>\n",
       "      <td>31.46</td>\n",
       "      <td>31.27</td>\n",
       "      <td>27.25</td>\n",
       "    </tr>\n",
       "    <tr>\n",
       "      <th>1</th>\n",
       "      <td>1902</td>\n",
       "      <td>24.93</td>\n",
       "      <td>26.58</td>\n",
       "      <td>29.77</td>\n",
       "      <td>31.78</td>\n",
       "      <td>33.73</td>\n",
       "      <td>32.91</td>\n",
       "      <td>30.92</td>\n",
       "      <td>30.73</td>\n",
       "      <td>29.80</td>\n",
       "      <td>29.12</td>\n",
       "      <td>26.31</td>\n",
       "      <td>24.04</td>\n",
       "      <td>29.22</td>\n",
       "      <td>25.75</td>\n",
       "      <td>31.76</td>\n",
       "      <td>31.09</td>\n",
       "      <td>26.49</td>\n",
       "    </tr>\n",
       "    <tr>\n",
       "      <th>2</th>\n",
       "      <td>1903</td>\n",
       "      <td>23.44</td>\n",
       "      <td>25.03</td>\n",
       "      <td>27.83</td>\n",
       "      <td>31.39</td>\n",
       "      <td>32.91</td>\n",
       "      <td>33.00</td>\n",
       "      <td>31.34</td>\n",
       "      <td>29.98</td>\n",
       "      <td>29.85</td>\n",
       "      <td>29.04</td>\n",
       "      <td>26.08</td>\n",
       "      <td>23.65</td>\n",
       "      <td>28.47</td>\n",
       "      <td>24.24</td>\n",
       "      <td>30.71</td>\n",
       "      <td>30.92</td>\n",
       "      <td>26.26</td>\n",
       "    </tr>\n",
       "    <tr>\n",
       "      <th>3</th>\n",
       "      <td>1904</td>\n",
       "      <td>22.50</td>\n",
       "      <td>24.73</td>\n",
       "      <td>28.21</td>\n",
       "      <td>32.02</td>\n",
       "      <td>32.64</td>\n",
       "      <td>32.07</td>\n",
       "      <td>30.36</td>\n",
       "      <td>30.09</td>\n",
       "      <td>30.04</td>\n",
       "      <td>29.20</td>\n",
       "      <td>26.36</td>\n",
       "      <td>23.63</td>\n",
       "      <td>28.49</td>\n",
       "      <td>23.62</td>\n",
       "      <td>30.95</td>\n",
       "      <td>30.66</td>\n",
       "      <td>26.40</td>\n",
       "    </tr>\n",
       "    <tr>\n",
       "      <th>4</th>\n",
       "      <td>1905</td>\n",
       "      <td>22.00</td>\n",
       "      <td>22.83</td>\n",
       "      <td>26.68</td>\n",
       "      <td>30.01</td>\n",
       "      <td>33.32</td>\n",
       "      <td>33.25</td>\n",
       "      <td>31.44</td>\n",
       "      <td>30.68</td>\n",
       "      <td>30.12</td>\n",
       "      <td>30.67</td>\n",
       "      <td>27.52</td>\n",
       "      <td>23.82</td>\n",
       "      <td>28.30</td>\n",
       "      <td>22.25</td>\n",
       "      <td>30.00</td>\n",
       "      <td>31.33</td>\n",
       "      <td>26.57</td>\n",
       "    </tr>\n",
       "    <tr>\n",
       "      <th>...</th>\n",
       "      <td>...</td>\n",
       "      <td>...</td>\n",
       "      <td>...</td>\n",
       "      <td>...</td>\n",
       "      <td>...</td>\n",
       "      <td>...</td>\n",
       "      <td>...</td>\n",
       "      <td>...</td>\n",
       "      <td>...</td>\n",
       "      <td>...</td>\n",
       "      <td>...</td>\n",
       "      <td>...</td>\n",
       "      <td>...</td>\n",
       "      <td>...</td>\n",
       "      <td>...</td>\n",
       "      <td>...</td>\n",
       "      <td>...</td>\n",
       "      <td>...</td>\n",
       "    </tr>\n",
       "    <tr>\n",
       "      <th>112</th>\n",
       "      <td>2013</td>\n",
       "      <td>24.56</td>\n",
       "      <td>26.59</td>\n",
       "      <td>30.62</td>\n",
       "      <td>32.66</td>\n",
       "      <td>34.46</td>\n",
       "      <td>32.44</td>\n",
       "      <td>31.07</td>\n",
       "      <td>30.76</td>\n",
       "      <td>31.04</td>\n",
       "      <td>30.27</td>\n",
       "      <td>27.83</td>\n",
       "      <td>25.37</td>\n",
       "      <td>29.81</td>\n",
       "      <td>25.58</td>\n",
       "      <td>32.58</td>\n",
       "      <td>31.33</td>\n",
       "      <td>27.83</td>\n",
       "    </tr>\n",
       "    <tr>\n",
       "      <th>113</th>\n",
       "      <td>2014</td>\n",
       "      <td>23.83</td>\n",
       "      <td>25.97</td>\n",
       "      <td>28.95</td>\n",
       "      <td>32.74</td>\n",
       "      <td>33.77</td>\n",
       "      <td>34.15</td>\n",
       "      <td>31.85</td>\n",
       "      <td>31.32</td>\n",
       "      <td>30.68</td>\n",
       "      <td>30.29</td>\n",
       "      <td>28.05</td>\n",
       "      <td>25.08</td>\n",
       "      <td>29.72</td>\n",
       "      <td>24.90</td>\n",
       "      <td>31.82</td>\n",
       "      <td>32.00</td>\n",
       "      <td>27.81</td>\n",
       "    </tr>\n",
       "    <tr>\n",
       "      <th>114</th>\n",
       "      <td>2015</td>\n",
       "      <td>24.58</td>\n",
       "      <td>26.89</td>\n",
       "      <td>29.07</td>\n",
       "      <td>31.87</td>\n",
       "      <td>34.09</td>\n",
       "      <td>32.48</td>\n",
       "      <td>31.88</td>\n",
       "      <td>31.52</td>\n",
       "      <td>31.55</td>\n",
       "      <td>31.04</td>\n",
       "      <td>28.10</td>\n",
       "      <td>25.67</td>\n",
       "      <td>29.90</td>\n",
       "      <td>25.74</td>\n",
       "      <td>31.68</td>\n",
       "      <td>31.87</td>\n",
       "      <td>28.27</td>\n",
       "    </tr>\n",
       "    <tr>\n",
       "      <th>115</th>\n",
       "      <td>2016</td>\n",
       "      <td>26.94</td>\n",
       "      <td>29.72</td>\n",
       "      <td>32.62</td>\n",
       "      <td>35.38</td>\n",
       "      <td>35.72</td>\n",
       "      <td>34.03</td>\n",
       "      <td>31.64</td>\n",
       "      <td>31.79</td>\n",
       "      <td>31.66</td>\n",
       "      <td>31.98</td>\n",
       "      <td>30.11</td>\n",
       "      <td>28.01</td>\n",
       "      <td>31.63</td>\n",
       "      <td>28.33</td>\n",
       "      <td>34.57</td>\n",
       "      <td>32.28</td>\n",
       "      <td>30.03</td>\n",
       "    </tr>\n",
       "    <tr>\n",
       "      <th>116</th>\n",
       "      <td>2017</td>\n",
       "      <td>26.45</td>\n",
       "      <td>29.46</td>\n",
       "      <td>31.60</td>\n",
       "      <td>34.95</td>\n",
       "      <td>35.84</td>\n",
       "      <td>33.82</td>\n",
       "      <td>31.88</td>\n",
       "      <td>31.72</td>\n",
       "      <td>32.22</td>\n",
       "      <td>32.29</td>\n",
       "      <td>29.60</td>\n",
       "      <td>27.18</td>\n",
       "      <td>31.42</td>\n",
       "      <td>27.95</td>\n",
       "      <td>34.13</td>\n",
       "      <td>32.41</td>\n",
       "      <td>29.69</td>\n",
       "    </tr>\n",
       "  </tbody>\n",
       "</table>\n",
       "<p>117 rows × 18 columns</p>\n",
       "</div>"
      ],
      "text/plain": [
       "     YEAR    JAN    FEB    MAR    APR    MAY    JUN    JUL    AUG    SEP  \\\n",
       "0    1901  22.40  24.14  29.07  31.91  33.41  33.18  31.21  30.39  30.47   \n",
       "1    1902  24.93  26.58  29.77  31.78  33.73  32.91  30.92  30.73  29.80   \n",
       "2    1903  23.44  25.03  27.83  31.39  32.91  33.00  31.34  29.98  29.85   \n",
       "3    1904  22.50  24.73  28.21  32.02  32.64  32.07  30.36  30.09  30.04   \n",
       "4    1905  22.00  22.83  26.68  30.01  33.32  33.25  31.44  30.68  30.12   \n",
       "..    ...    ...    ...    ...    ...    ...    ...    ...    ...    ...   \n",
       "112  2013  24.56  26.59  30.62  32.66  34.46  32.44  31.07  30.76  31.04   \n",
       "113  2014  23.83  25.97  28.95  32.74  33.77  34.15  31.85  31.32  30.68   \n",
       "114  2015  24.58  26.89  29.07  31.87  34.09  32.48  31.88  31.52  31.55   \n",
       "115  2016  26.94  29.72  32.62  35.38  35.72  34.03  31.64  31.79  31.66   \n",
       "116  2017  26.45  29.46  31.60  34.95  35.84  33.82  31.88  31.72  32.22   \n",
       "\n",
       "       OCT    NOV    DEC  ANNUAL  JAN-FEB  MAR-MAY  JUN-SEP  OCT-DEC  \n",
       "0    29.97  27.31  24.49   28.96    23.27    31.46    31.27    27.25  \n",
       "1    29.12  26.31  24.04   29.22    25.75    31.76    31.09    26.49  \n",
       "2    29.04  26.08  23.65   28.47    24.24    30.71    30.92    26.26  \n",
       "3    29.20  26.36  23.63   28.49    23.62    30.95    30.66    26.40  \n",
       "4    30.67  27.52  23.82   28.30    22.25    30.00    31.33    26.57  \n",
       "..     ...    ...    ...     ...      ...      ...      ...      ...  \n",
       "112  30.27  27.83  25.37   29.81    25.58    32.58    31.33    27.83  \n",
       "113  30.29  28.05  25.08   29.72    24.90    31.82    32.00    27.81  \n",
       "114  31.04  28.10  25.67   29.90    25.74    31.68    31.87    28.27  \n",
       "115  31.98  30.11  28.01   31.63    28.33    34.57    32.28    30.03  \n",
       "116  32.29  29.60  27.18   31.42    27.95    34.13    32.41    29.69  \n",
       "\n",
       "[117 rows x 18 columns]"
      ]
     },
     "execution_count": 11,
     "metadata": {},
     "output_type": "execute_result"
    }
   ],
   "source": [
    "df"
   ]
  },
  {
   "cell_type": "code",
   "execution_count": 10,
   "id": "6fb01ae8-217b-4cac-9678-6242322f3c94",
   "metadata": {},
   "outputs": [],
   "source": [
    "X= df['YEAR']\n",
    "Y= df['ANNUAL']"
   ]
  },
  {
   "cell_type": "code",
   "execution_count": 14,
   "id": "ae59c40a-4bd8-4339-9902-7cf03db37eee",
   "metadata": {},
   "outputs": [
    {
     "data": {
      "text/plain": [
       "<matplotlib.collections.PathCollection at 0x1ed0dcd8620>"
      ]
     },
     "execution_count": 14,
     "metadata": {},
     "output_type": "execute_result"
    },
    {
     "data": {
      "image/png": "[encoded data removed]",
      "text/plain": [
       "<Figure size 640x480 with 1 Axes>"
      ]
     },
     "metadata": {},
     "output_type": "display_data"
    }
   ],
   "source": [
    "plt.title(\"Annul temp in india\")\n",
    "plt.xlabel(\"Year\")\n",
    "plt.ylabel(\"Temperature\")\n",
    "plt.scatter(X,Y)"
   ]
  },
  {
   "cell_type": "code",
   "execution_count": 16,
   "id": "a328cc41-8654-4c7d-a8fd-a54400dac423",
   "metadata": {},
   "outputs": [
    {
     "data": {
      "text/plain": [
       "(117,)"
      ]
     },
     "execution_count": 16,
     "metadata": {},
     "output_type": "execute_result"
    }
   ],
   "source": [
    "X.shape\n"
   ]
  },
  {
   "cell_type": "code",
   "execution_count": 20,
   "id": "f9949ce6-357a-4ea5-9ce9-69049e32d097",
   "metadata": {},
   "outputs": [],
   "source": [
    "X=X.values\n"
   ]
  },
  {
   "cell_type": "code",
   "execution_count": 22,
   "id": "e3296b70-0797-435d-8a95-08a7c8a21f6c",
   "metadata": {},
   "outputs": [],
   "source": [
    "X=X.reshape(117,1)"
   ]
  },
  {
   "cell_type": "code",
   "execution_count": 24,
   "id": "b400e5e4-5faf-45cb-8fda-a900260b2750",
   "metadata": {},
   "outputs": [
    {
     "data": {
      "text/plain": [
       "(117, 1)"
      ]
     },
     "execution_count": 24,
     "metadata": {},
     "output_type": "execute_result"
    }
   ],
   "source": [
    "X.shape\n"
   ]
  },
  {
   "cell_type": "code",
   "execution_count": 26,
   "id": "1bbfab51-9691-4930-bb41-ff420fb724bf",
   "metadata": {},
   "outputs": [],
   "source": [
    "from sklearn.linear_model import LinearRegression"
   ]
  },
  {
   "cell_type": "code",
   "execution_count": 28,
   "id": "f555cb62-3cd5-42e1-b02b-7ca6a20752bb",
   "metadata": {},
   "outputs": [],
   "source": [
    "regressor = LinearRegression()"
   ]
  },
  {
   "cell_type": "code",
   "execution_count": 30,
   "id": "744d80ae-2bfd-450b-8bec-661b916b2c2f",
   "metadata": {},
   "outputs": [
    {
     "data": {
      "text/html": [
       "<style>#sk-container-id-1 {\n",
       "  /* Definition of color scheme common for light and dark mode */\n",
       "  --sklearn-color-text: black;\n",
       "  --sklearn-color-line: gray;\n",
       "  /* Definition of color scheme for unfitted estimators */\n",
       "  --sklearn-color-unfitted-level-0: #fff5e6;\n",
       "  --sklearn-color-unfitted-level-1: #f6e4d2;\n",
       "  --sklearn-color-unfitted-level-2: #ffe0b3;\n",
       "  --sklearn-color-unfitted-level-3: chocolate;\n",
       "  /* Definition of color scheme for fitted estimators */\n",
       "  --sklearn-color-fitted-level-0: #f0f8ff;\n",
       "  --sklearn-color-fitted-level-1: #d4ebff;\n",
       "  --sklearn-color-fitted-level-2: #b3dbfd;\n",
       "  --sklearn-color-fitted-level-3: cornflowerblue;\n",
       "\n",
       "  /* Specific color for light theme */\n",
       "  --sklearn-color-text-on-default-background: var(--sg-text-color, var(--theme-code-foreground, var(--jp-content-font-color1, black)));\n",
       "  --sklearn-color-background: var(--sg-background-color, var(--theme-background, var(--jp-layout-color0, white)));\n",
       "  --sklearn-color-border-box: var(--sg-text-color, var(--theme-code-foreground, var(--jp-content-font-color1, black)));\n",
       "  --sklearn-color-icon: #696969;\n",
       "\n",
       "  @media (prefers-color-scheme: dark) {\n",
       "    /* Redefinition of color scheme for dark theme */\n",
       "    --sklearn-color-text-on-default-background: var(--sg-text-color, var(--theme-code-foreground, var(--jp-content-font-color1, white)));\n",
       "    --sklearn-color-background: var(--sg-background-color, var(--theme-background, var(--jp-layout-color0, #111)));\n",
       "    --sklearn-color-border-box: var(--sg-text-color, var(--theme-code-foreground, var(--jp-content-font-color1, white)));\n",
       "    --sklearn-color-icon: #878787;\n",
       "  }\n",
       "}\n",
       "\n",
       "#sk-container-id-1 {\n",
       "  color: var(--sklearn-color-text);\n",
       "}\n",
       "\n",
       "#sk-container-id-1 pre {\n",
       "  padding: 0;\n",
       "}\n",
       "\n",
       "#sk-container-id-1 input.sk-hidden--visually {\n",
       "  border: 0;\n",
       "  clip: rect(1px 1px 1px 1px);\n",
       "  clip: rect(1px, 1px, 1px, 1px);\n",
       "  height: 1px;\n",
       "  margin: -1px;\n",
       "  overflow: hidden;\n",
       "  padding: 0;\n",
       "  position: absolute;\n",
       "  width: 1px;\n",
       "}\n",
       "\n",
       "#sk-container-id-1 div.sk-dashed-wrapped {\n",
       "  border: 1px dashed var(--sklearn-color-line);\n",
       "  margin: 0 0.4em 0.5em 0.4em;\n",
       "  box-sizing: border-box;\n",
       "  padding-bottom: 0.4em;\n",
       "  background-color: var(--sklearn-color-background);\n",
       "}\n",
       "\n",
       "#sk-container-id-1 div.sk-container {\n",
       "  /* jupyter's `normalize.less` sets `[hidden] { display: none; }`\n",
       "     but bootstrap.min.css set `[hidden] { display: none !important; }`\n",
       "     so we also need the `!important` here to be able to override the\n",
       "     default hidden behavior on the sphinx rendered scikit-learn.org.\n",
       "     See: https://github.com/scikit-learn/scikit-learn/issues/21755 */\n",
       "  display: inline-block !important;\n",
       "  position: relative;\n",
       "}\n",
       "\n",
       "#sk-container-id-1 div.sk-text-repr-fallback {\n",
       "  display: none;\n",
       "}\n",
       "\n",
       "div.sk-parallel-item,\n",
       "div.sk-serial,\n",
       "div.sk-item {\n",
       "  /* draw centered vertical line to link estimators */\n",
       "  background-image: linear-gradient(var(--sklearn-color-text-on-default-background), var(--sklearn-color-text-on-default-background));\n",
       "  background-size: 2px 100%;\n",
       "  background-repeat: no-repeat;\n",
       "  background-position: center center;\n",
       "}\n",
       "\n",
       "/* Parallel-specific style estimator block */\n",
       "\n",
       "#sk-container-id-1 div.sk-parallel-item::after {\n",
       "  content: \"\";\n",
       "  width: 100%;\n",
       "  border-bottom: 2px solid var(--sklearn-color-text-on-default-background);\n",
       "  flex-grow: 1;\n",
       "}\n",
       "\n",
       "#sk-container-id-1 div.sk-parallel {\n",
       "  display: flex;\n",
       "  align-items: stretch;\n",
       "  justify-content: center;\n",
       "  background-color: var(--sklearn-color-background);\n",
       "  position: relative;\n",
       "}\n",
       "\n",
       "#sk-container-id-1 div.sk-parallel-item {\n",
       "  display: flex;\n",
       "  flex-direction: column;\n",
       "}\n",
       "\n",
       "#sk-container-id-1 div.sk-parallel-item:first-child::after {\n",
       "  align-self: flex-end;\n",
       "  width: 50%;\n",
       "}\n",
       "\n",
       "#sk-container-id-1 div.sk-parallel-item:last-child::after {\n",
       "  align-self: flex-start;\n",
       "  width: 50%;\n",
       "}\n",
       "\n",
       "#sk-container-id-1 div.sk-parallel-item:only-child::after {\n",
       "  width: 0;\n",
       "}\n",
       "\n",
       "/* Serial-specific style estimator block */\n",
       "\n",
       "#sk-container-id-1 div.sk-serial {\n",
       "  display: flex;\n",
       "  flex-direction: column;\n",
       "  align-items: center;\n",
       "  background-color: var(--sklearn-color-background);\n",
       "  padding-right: 1em;\n",
       "  padding-left: 1em;\n",
       "}\n",
       "\n",
       "\n",
       "/* Toggleable style: style used for estimator/Pipeline/ColumnTransformer box that is\n",
       "clickable and can be expanded/collapsed.\n",
       "- Pipeline and ColumnTransformer use this feature and define the default style\n",
       "- Estimators will overwrite some part of the style using the `sk-estimator` class\n",
       "*/\n",
       "\n",
       "/* Pipeline and ColumnTransformer style (default) */\n",
       "\n",
       "#sk-container-id-1 div.sk-toggleable {\n",
       "  /* Default theme specific background. It is overwritten whether we have a\n",
       "  specific estimator or a Pipeline/ColumnTransformer */\n",
       "  background-color: var(--sklearn-color-background);\n",
       "}\n",
       "\n",
       "/* Toggleable label */\n",
       "#sk-container-id-1 label.sk-toggleable__label {\n",
       "  cursor: pointer;\n",
       "  display: block;\n",
       "  width: 100%;\n",
       "  margin-bottom: 0;\n",
       "  padding: 0.5em;\n",
       "  box-sizing: border-box;\n",
       "  text-align: center;\n",
       "}\n",
       "\n",
       "#sk-container-id-1 label.sk-toggleable__label-arrow:before {\n",
       "  /* Arrow on the left of the label */\n",
       "  content: \"▸\";\n",
       "  float: left;\n",
       "  margin-right: 0.25em;\n",
       "  color: var(--sklearn-color-icon);\n",
       "}\n",
       "\n",
       "#sk-container-id-1 label.sk-toggleable__label-arrow:hover:before {\n",
       "  color: var(--sklearn-color-text);\n",
       "}\n",
       "\n",
       "/* Toggleable content - dropdown */\n",
       "\n",
       "#sk-container-id-1 div.sk-toggleable__content {\n",
       "  max-height: 0;\n",
       "  max-width: 0;\n",
       "  overflow: hidden;\n",
       "  text-align: left;\n",
       "  /* unfitted */\n",
       "  background-color: var(--sklearn-color-unfitted-level-0);\n",
       "}\n",
       "\n",
       "#sk-container-id-1 div.sk-toggleable__content.fitted {\n",
       "  /* fitted */\n",
       "  background-color: var(--sklearn-color-fitted-level-0);\n",
       "}\n",
       "\n",
       "#sk-container-id-1 div.sk-toggleable__content pre {\n",
       "  margin: 0.2em;\n",
       "  border-radius: 0.25em;\n",
       "  color: var(--sklearn-color-text);\n",
       "  /* unfitted */\n",
       "  background-color: var(--sklearn-color-unfitted-level-0);\n",
       "}\n",
       "\n",
       "#sk-container-id-1 div.sk-toggleable__content.fitted pre {\n",
       "  /* unfitted */\n",
       "  background-color: var(--sklearn-color-fitted-level-0);\n",
       "}\n",
       "\n",
       "#sk-container-id-1 input.sk-toggleable__control:checked~div.sk-toggleable__content {\n",
       "  /* Expand drop-down */\n",
       "  max-height: 200px;\n",
       "  max-width: 100%;\n",
       "  overflow: auto;\n",
       "}\n",
       "\n",
       "#sk-container-id-1 input.sk-toggleable__control:checked~label.sk-toggleable__label-arrow:before {\n",
       "  content: \"▾\";\n",
       "}\n",
       "\n",
       "/* Pipeline/ColumnTransformer-specific style */\n",
       "\n",
       "#sk-container-id-1 div.sk-label input.sk-toggleable__control:checked~label.sk-toggleable__label {\n",
       "  color: var(--sklearn-color-text);\n",
       "  background-color: var(--sklearn-color-unfitted-level-2);\n",
       "}\n",
       "\n",
       "#sk-container-id-1 div.sk-label.fitted input.sk-toggleable__control:checked~label.sk-toggleable__label {\n",
       "  background-color: var(--sklearn-color-fitted-level-2);\n",
       "}\n",
       "\n",
       "/* Estimator-specific style */\n",
       "\n",
       "/* Colorize estimator box */\n",
       "#sk-container-id-1 div.sk-estimator input.sk-toggleable__control:checked~label.sk-toggleable__label {\n",
       "  /* unfitted */\n",
       "  background-color: var(--sklearn-color-unfitted-level-2);\n",
       "}\n",
       "\n",
       "#sk-container-id-1 div.sk-estimator.fitted input.sk-toggleable__control:checked~label.sk-toggleable__label {\n",
       "  /* fitted */\n",
       "  background-color: var(--sklearn-color-fitted-level-2);\n",
       "}\n",
       "\n",
       "#sk-container-id-1 div.sk-label label.sk-toggleable__label,\n",
       "#sk-container-id-1 div.sk-label label {\n",
       "  /* The background is the default theme color */\n",
       "  color: var(--sklearn-color-text-on-default-background);\n",
       "}\n",
       "\n",
       "/* On hover, darken the color of the background */\n",
       "#sk-container-id-1 div.sk-label:hover label.sk-toggleable__label {\n",
       "  color: var(--sklearn-color-text);\n",
       "  background-color: var(--sklearn-color-unfitted-level-2);\n",
       "}\n",
       "\n",
       "/* Label box, darken color on hover, fitted */\n",
       "#sk-container-id-1 div.sk-label.fitted:hover label.sk-toggleable__label.fitted {\n",
       "  color: var(--sklearn-color-text);\n",
       "  background-color: var(--sklearn-color-fitted-level-2);\n",
       "}\n",
       "\n",
       "/* Estimator label */\n",
       "\n",
       "#sk-container-id-1 div.sk-label label {\n",
       "  font-family: monospace;\n",
       "  font-weight: bold;\n",
       "  display: inline-block;\n",
       "  line-height: 1.2em;\n",
       "}\n",
       "\n",
       "#sk-container-id-1 div.sk-label-container {\n",
       "  text-align: center;\n",
       "}\n",
       "\n",
       "/* Estimator-specific */\n",
       "#sk-container-id-1 div.sk-estimator {\n",
       "  font-family: monospace;\n",
       "  border: 1px dotted var(--sklearn-color-border-box);\n",
       "  border-radius: 0.25em;\n",
       "  box-sizing: border-box;\n",
       "  margin-bottom: 0.5em;\n",
       "  /* unfitted */\n",
       "  background-color: var(--sklearn-color-unfitted-level-0);\n",
       "}\n",
       "\n",
       "#sk-container-id-1 div.sk-estimator.fitted {\n",
       "  /* fitted */\n",
       "  background-color: var(--sklearn-color-fitted-level-0);\n",
       "}\n",
       "\n",
       "/* on hover */\n",
       "#sk-container-id-1 div.sk-estimator:hover {\n",
       "  /* unfitted */\n",
       "  background-color: var(--sklearn-color-unfitted-level-2);\n",
       "}\n",
       "\n",
       "#sk-container-id-1 div.sk-estimator.fitted:hover {\n",
       "  /* fitted */\n",
       "  background-color: var(--sklearn-color-fitted-level-2);\n",
       "}\n",
       "\n",
       "/* Specification for estimator info (e.g. \"i\" and \"?\") */\n",
       "\n",
       "/* Common style for \"i\" and \"?\" */\n",
       "\n",
       ".sk-estimator-doc-link,\n",
       "a:link.sk-estimator-doc-link,\n",
       "a:visited.sk-estimator-doc-link {\n",
       "  float: right;\n",
       "  font-size: smaller;\n",
       "  line-height: 1em;\n",
       "  font-family: monospace;\n",
       "  background-color: var(--sklearn-color-background);\n",
       "  border-radius: 1em;\n",
       "  height: 1em;\n",
       "  width: 1em;\n",
       "  text-decoration: none !important;\n",
       "  margin-left: 1ex;\n",
       "  /* unfitted */\n",
       "  border: var(--sklearn-color-unfitted-level-1) 1pt solid;\n",
       "  color: var(--sklearn-color-unfitted-level-1);\n",
       "}\n",
       "\n",
       ".sk-estimator-doc-link.fitted,\n",
       "a:link.sk-estimator-doc-link.fitted,\n",
       "a:visited.sk-estimator-doc-link.fitted {\n",
       "  /* fitted */\n",
       "  border: var(--sklearn-color-fitted-level-1) 1pt solid;\n",
       "  color: var(--sklearn-color-fitted-level-1);\n",
       "}\n",
       "\n",
       "/* On hover */\n",
       "div.sk-estimator:hover .sk-estimator-doc-link:hover,\n",
       ".sk-estimator-doc-link:hover,\n",
       "div.sk-label-container:hover .sk-estimator-doc-link:hover,\n",
       ".sk-estimator-doc-link:hover {\n",
       "  /* unfitted */\n",
       "  background-color: var(--sklearn-color-unfitted-level-3);\n",
       "  color: var(--sklearn-color-background);\n",
       "  text-decoration: none;\n",
       "}\n",
       "\n",
       "div.sk-estimator.fitted:hover .sk-estimator-doc-link.fitted:hover,\n",
       ".sk-estimator-doc-link.fitted:hover,\n",
       "div.sk-label-container:hover .sk-estimator-doc-link.fitted:hover,\n",
       ".sk-estimator-doc-link.fitted:hover {\n",
       "  /* fitted */\n",
       "  background-color: var(--sklearn-color-fitted-level-3);\n",
       "  color: var(--sklearn-color-background);\n",
       "  text-decoration: none;\n",
       "}\n",
       "\n",
       "/* Span, style for the box shown on hovering the info icon */\n",
       ".sk-estimator-doc-link span {\n",
       "  display: none;\n",
       "  z-index: 9999;\n",
       "  position: relative;\n",
       "  font-weight: normal;\n",
       "  right: .2ex;\n",
       "  padding: .5ex;\n",
       "  margin: .5ex;\n",
       "  width: min-content;\n",
       "  min-width: 20ex;\n",
       "  max-width: 50ex;\n",
       "  color: var(--sklearn-color-text);\n",
       "  box-shadow: 2pt 2pt 4pt #999;\n",
       "  /* unfitted */\n",
       "  background: var(--sklearn-color-unfitted-level-0);\n",
       "  border: .5pt solid var(--sklearn-color-unfitted-level-3);\n",
       "}\n",
       "\n",
       ".sk-estimator-doc-link.fitted span {\n",
       "  /* fitted */\n",
       "  background: var(--sklearn-color-fitted-level-0);\n",
       "  border: var(--sklearn-color-fitted-level-3);\n",
       "}\n",
       "\n",
       ".sk-estimator-doc-link:hover span {\n",
       "  display: block;\n",
       "}\n",
       "\n",
       "/* \"?\"-specific style due to the `<a>` HTML tag */\n",
       "\n",
       "#sk-container-id-1 a.estimator_doc_link {\n",
       "  float: right;\n",
       "  font-size: 1rem;\n",
       "  line-height: 1em;\n",
       "  font-family: monospace;\n",
       "  background-color: var(--sklearn-color-background);\n",
       "  border-radius: 1rem;\n",
       "  height: 1rem;\n",
       "  width: 1rem;\n",
       "  text-decoration: none;\n",
       "  /* unfitted */\n",
       "  color: var(--sklearn-color-unfitted-level-1);\n",
       "  border: var(--sklearn-color-unfitted-level-1) 1pt solid;\n",
       "}\n",
       "\n",
       "#sk-container-id-1 a.estimator_doc_link.fitted {\n",
       "  /* fitted */\n",
       "  border: var(--sklearn-color-fitted-level-1) 1pt solid;\n",
       "  color: var(--sklearn-color-fitted-level-1);\n",
       "}\n",
       "\n",
       "/* On hover */\n",
       "#sk-container-id-1 a.estimator_doc_link:hover {\n",
       "  /* unfitted */\n",
       "  background-color: var(--sklearn-color-unfitted-level-3);\n",
       "  color: var(--sklearn-color-background);\n",
       "  text-decoration: none;\n",
       "}\n",
       "\n",
       "#sk-container-id-1 a.estimator_doc_link.fitted:hover {\n",
       "  /* fitted */\n",
       "  background-color: var(--sklearn-color-fitted-level-3);\n",
       "}\n",
       "</style><div id=\"sk-container-id-1\" class=\"sk-top-container\"><div class=\"sk-text-repr-fallback\"><pre>LinearRegression()</pre><b>In a Jupyter environment, please rerun this cell to show the HTML representation or trust the notebook. <br />On GitHub, the HTML representation is unable to render, please try loading this page with nbviewer.org.</b></div><div class=\"sk-container\" hidden><div class=\"sk-item\"><div class=\"sk-estimator fitted sk-toggleable\"><input class=\"sk-toggleable__control sk-hidden--visually\" id=\"sk-estimator-id-1\" type=\"checkbox\" checked><label for=\"sk-estimator-id-1\" class=\"sk-toggleable__label fitted sk-toggleable__label-arrow fitted\">&nbsp;&nbsp;LinearRegression<a class=\"sk-estimator-doc-link fitted\" rel=\"noreferrer\" target=\"_blank\" href=\"https://scikit-learn.org/1.4/modules/generated/sklearn.linear_model.LinearRegression.html\">?<span>Documentation for LinearRegression</span></a><span class=\"sk-estimator-doc-link fitted\">i<span>Fitted</span></span></label><div class=\"sk-toggleable__content fitted\"><pre>LinearRegression()</pre></div> </div></div></div></div>"
      ],
      "text/plain": [
       "LinearRegression()"
      ]
     },
     "execution_count": 30,
     "metadata": {},
     "output_type": "execute_result"
    }
   ],
   "source": [
    "regressor.fit(X,Y)"
   ]
  },
  {
   "cell_type": "code",
   "execution_count": 34,
   "id": "d07c170d-e055-4370-88cb-aa9af56b0545",
   "metadata": {},
   "outputs": [
    {
     "data": {
      "text/plain": [
       "array([0.01312158])"
      ]
     },
     "execution_count": 34,
     "metadata": {},
     "output_type": "execute_result"
    }
   ],
   "source": [
    "regressor.coef_"
   ]
  },
  {
   "cell_type": "code",
   "execution_count": 38,
   "id": "76560854-4fc9-415c-ad8a-e1dcba3eae67",
   "metadata": {},
   "outputs": [
    {
     "data": {
      "text/plain": [
       "3.4761897126187087"
      ]
     },
     "execution_count": 38,
     "metadata": {},
     "output_type": "execute_result"
    }
   ],
   "source": [
    "regressor.intercept_"
   ]
  },
  {
   "cell_type": "code",
   "execution_count": 40,
   "id": "335aee71-7ace-4661-bea6-e6b48df51767",
   "metadata": {},
   "outputs": [
    {
     "data": {
      "text/plain": [
       "array([42.84093368])"
      ]
     },
     "execution_count": 40,
     "metadata": {},
     "output_type": "execute_result"
    }
   ],
   "source": [
    "regressor.predict([[3000]])"
   ]
  },
  {
   "cell_type": "code",
   "execution_count": 44,
   "id": "7a645703-92f3-4c01-83b9-756e21268445",
   "metadata": {},
   "outputs": [],
   "source": [
    "predicted= regressor.predict(X)"
   ]
  },
  {
   "cell_type": "code",
   "execution_count": 46,
   "id": "23f378b5-cb32-477d-b2a0-12cb3401ba0c",
   "metadata": {},
   "outputs": [
    {
     "data": {
      "text/plain": [
       "array([28.4203158 , 28.43343739, 28.44655897, 28.45968055, 28.47280213,\n",
       "       28.48592371, 28.49904529, 28.51216687, 28.52528846, 28.53841004,\n",
       "       28.55153162, 28.5646532 , 28.57777478, 28.59089636, 28.60401794,\n",
       "       28.61713952, 28.63026111, 28.64338269, 28.65650427, 28.66962585,\n",
       "       28.68274743, 28.69586901, 28.70899059, 28.72211218, 28.73523376,\n",
       "       28.74835534, 28.76147692, 28.7745985 , 28.78772008, 28.80084166,\n",
       "       28.81396324, 28.82708483, 28.84020641, 28.85332799, 28.86644957,\n",
       "       28.87957115, 28.89269273, 28.90581431, 28.91893589, 28.93205748,\n",
       "       28.94517906, 28.95830064, 28.97142222, 28.9845438 , 28.99766538,\n",
       "       29.01078696, 29.02390855, 29.03703013, 29.05015171, 29.06327329,\n",
       "       29.07639487, 29.08951645, 29.10263803, 29.11575961, 29.1288812 ,\n",
       "       29.14200278, 29.15512436, 29.16824594, 29.18136752, 29.1944891 ,\n",
       "       29.20761068, 29.22073227, 29.23385385, 29.24697543, 29.26009701,\n",
       "       29.27321859, 29.28634017, 29.29946175, 29.31258333, 29.32570492,\n",
       "       29.3388265 , 29.35194808, 29.36506966, 29.37819124, 29.39131282,\n",
       "       29.4044344 , 29.41755599, 29.43067757, 29.44379915, 29.45692073,\n",
       "       29.47004231, 29.48316389, 29.49628547, 29.50940705, 29.52252864,\n",
       "       29.53565022, 29.5487718 , 29.56189338, 29.57501496, 29.58813654,\n",
       "       29.60125812, 29.6143797 , 29.62750129, 29.64062287, 29.65374445,\n",
       "       29.66686603, 29.67998761, 29.69310919, 29.70623077, 29.71935236,\n",
       "       29.73247394, 29.74559552, 29.7587171 , 29.77183868, 29.78496026,\n",
       "       29.79808184, 29.81120342, 29.82432501, 29.83744659, 29.85056817,\n",
       "       29.86368975, 29.87681133, 29.88993291, 29.90305449, 29.91617608,\n",
       "       29.92929766, 29.94241924])"
      ]
     },
     "execution_count": 46,
     "metadata": {},
     "output_type": "execute_result"
    }
   ],
   "source": [
    "predicted"
   ]
  },
  {
   "cell_type": "code",
   "execution_count": 48,
   "id": "11e37145-b7e9-44ad-a40a-a6926b2ea8a9",
   "metadata": {},
   "outputs": [
    {
     "data": {
      "text/plain": [
       "0      28.96\n",
       "1      29.22\n",
       "2      28.47\n",
       "3      28.49\n",
       "4      28.30\n",
       "       ...  \n",
       "112    29.81\n",
       "113    29.72\n",
       "114    29.90\n",
       "115    31.63\n",
       "116    31.42\n",
       "Name: ANNUAL, Length: 117, dtype: float64"
      ]
     },
     "execution_count": 48,
     "metadata": {},
     "output_type": "execute_result"
    }
   ],
   "source": [
    "Y"
   ]
  },
  {
   "cell_type": "code",
   "execution_count": 56,
   "id": "54a388ff-c6bb-4244-b5a0-b88ca9a33491",
   "metadata": {},
   "outputs": [
    {
     "data": {
      "text/plain": [
       "0.22535284978630418"
      ]
     },
     "execution_count": 56,
     "metadata": {},
     "output_type": "execute_result"
    }
   ],
   "source": [
    "#MEAN ABSULATE ERROR\n",
    "from sklearn.metrics import mean_absolute_error\n",
    "mean_absolute_error(Y,predicted)"
   ]
  },
  {
   "cell_type": "code",
   "execution_count": 58,
   "id": "50ede75b-921c-41ac-941e-5e8809ab2d99",
   "metadata": {},
   "outputs": [
    {
     "data": {
      "text/plain": [
       "0.10960795229110358"
      ]
     },
     "execution_count": 58,
     "metadata": {},
     "output_type": "execute_result"
    }
   ],
   "source": [
    "#MEAN SQUARED ERROR\n",
    "from sklearn.metrics import mean_squared_error\n",
    "mean_squared_error(Y,predicted)"
   ]
  },
  {
   "cell_type": "code",
   "execution_count": 66,
   "id": "ee790034-b309-4a13-a605-50cc7e9d507b",
   "metadata": {},
   "outputs": [
    {
     "data": {
      "text/plain": [
       "0.641807891278368"
      ]
     },
     "execution_count": 66,
     "metadata": {},
     "output_type": "execute_result"
    }
   ],
   "source": [
    "#R SQUARED ERROR\n",
    "from sklearn.metrics import r2_score\n",
    "r2_score(Y,predicted)"
   ]
  },
  {
   "cell_type": "code",
   "execution_count": 68,
   "id": "7ef459d8-8873-4c1c-b818-eb0ec42dd915",
   "metadata": {},
   "outputs": [
    {
     "data": {
      "text/plain": [
       "0.641807891278368"
      ]
     },
     "execution_count": 68,
     "metadata": {},
     "output_type": "execute_result"
    }
   ],
   "source": [
    "regressor.score(X,Y)"
   ]
  },
  {
   "cell_type": "code",
   "execution_count": 78,
   "id": "88a0c540-8a54-4e79-a387-02f9a0d53bc4",
   "metadata": {},
   "outputs": [
    {
     "data": {
      "text/plain": [
       "<matplotlib.legend.Legend at 0x1ed0f5ae270>"
      ]
     },
     "execution_count": 78,
     "metadata": {},
     "output_type": "execute_result"
    },
    {
     "data": {
      "image/png": "[encoded data removed]",
      "text/plain": [
       "<Figure size 640x480 with 1 Axes>"
      ]
     },
     "metadata": {},
     "output_type": "display_data"
    }
   ],
   "source": [
    "plt.title(\"Annul temp in india\")\n",
    "plt.xlabel(\"Year\")\n",
    "plt.ylabel(\"Temperature\")\n",
    "plt.scatter(X,Y, label=\"Actual\",color='r',marker=\".\")\n",
    "plt.plot(X, predicted,label='Predicted',color=\"g\")\n",
    "plt.legend()"
   ]
  },
  {
   "cell_type": "code",
   "execution_count": null,
   "id": "5281a0e7-e237-4528-bc11-3eeca379bd24",
   "metadata": {},
   "outputs": [],
   "source": []
  }
 ],
 "metadata": {
  "kernelspec": {
   "display_name": "Python 3 (ipykernel)",
   "language": "python",
   "name": "python3"
  },
  "language_info": {
   "codemirror_mode": {
    "name": "ipython",
    "version": 3
   },
   "file_extension": ".py",
   "mimetype": "text/x-python",
   "name": "python",
   "nbconvert_exporter": "python",
   "pygments_lexer": "ipython3",
   "version": "3.12.4"
  }
 },
 "nbformat": 4,
 "nbformat_minor": 5
}
